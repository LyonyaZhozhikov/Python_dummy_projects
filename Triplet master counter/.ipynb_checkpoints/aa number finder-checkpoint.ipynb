{
 "cells": [
  {
   "cell_type": "markdown",
   "id": "32581549",
   "metadata": {},
   "source": [
    "# Script to:\n",
    "## 1 find triplet number using triplet sequence \n",
    "## 2 or triplet sequence using number "
   ]
  },
  {
   "cell_type": "markdown",
   "id": "1ba57c71",
   "metadata": {},
   "source": [
    "### find your exon sequence first (using UCSC genome browser for example)"
   ]
  },
  {
   "cell_type": "markdown",
   "id": "3f72fa85",
   "metadata": {},
   "source": [
    "#### copy this to try how it works (no worries about integers and spaces):\n",
    "#### TGTTC TGAGGATAAA TATGTGACAA GTGCCTACCA  15555809 GTGGATGGTT CCCTTTCTTC ATCGTTGTGA GAAACAGTCG CCTGGTGTGG  15555759 CTAATGAGCT ATTAAAAGAA TATTTAGTAA CTTTAGCTAA AGGGGACTTA  15555709 AAATTTCCCC TGAAGATATT TCAGCATTCC AAACCAGAT\n",
    "### (exapmle here is NBAS gene 26 exon)\n"
   ]
  },
  {
   "cell_type": "code",
   "execution_count": null,
   "id": "a6ffa78f",
   "metadata": {},
   "outputs": [],
   "source": []
  },
  {
   "cell_type": "code",
   "execution_count": 4,
   "id": "85c4491f",
   "metadata": {},
   "outputs": [
    {
     "name": "stdout",
     "output_type": "stream",
     "text": [
      "\n",
      " Insert your raw copy of exon: \n",
      " (or type \"exit\" to finish the script)\n",
      "CT  15378809 GTCTGTGGAA GCCCGTAAAG AGATGACTAG AAAGGCTATT AAGACAGTCA  15378759 AACATTTTAT TGAGAAGCCA AGGAAAAGAA ACTCAGAAGA CGAAGCTCAA  15378709 GAAGCTAAGG ATTCTAAAGT TACCTATGCA GATACTTTGA ATCATCTGGA  15378659 GAAATCACTT GCCCACCTGG AAACCCTGAG CCACAGCTTC ATCCTTTCTC  15378609 TGAAGAATAG TGAGCAG\n",
      "\n",
      " Type \"triplet\" to find triplet sequence knowing its number,\n",
      " or \"number\" to find triplet number using its sequence (all matches), \n",
      " or type \"show\" to see your exon sequence with marked and counted triplets, \n",
      " or \"back\" to return to sequence entering.\n",
      "CGT\n",
      "try again\n",
      "\n",
      " Type \"triplet\" to find triplet sequence knowing its number,\n",
      " or \"number\" to find triplet number using its sequence (all matches), \n",
      " or type \"show\" to see your exon sequence with marked and counted triplets, \n",
      " or \"back\" to return to sequence entering.\n",
      "triplet\n",
      "\n",
      " Enter triplet:\n",
      "CGT\n",
      "6\n",
      "\n",
      " Type \"triplet\" to find triplet sequence knowing its number,\n",
      " or \"number\" to find triplet number using its sequence (all matches), \n",
      " or type \"show\" to see your exon sequence with marked and counted triplets, \n",
      " or \"back\" to return to sequence entering.\n",
      "show\n",
      "CTG1 TCT2 GTG3 GAA4 GCC5 CGT6 AAA7 GAG8 ATG9 ACT10 AGA11 AAG12 GCT13 ATT14 AAG15 ACA16 GTC17 AAA18 CAT19 TTT20 ATT21 GAG22 AAG23 CCA24 AGG25 AAA26 AGA27 AAC28 TCA29 GAA30 GAC31 GAA32 GCT33 CAA34 GAA35 GCT36 AAG37 GAT38 TCT39 AAA40 GTT41 ACC42 TAT43 GCA44 GAT45 ACT46 TTG47 AAT48 CAT49 CTG50 GAG51 AAA52 TCA53 CTT54 GCC55 CAC56 CTG57 GAA58 ACC59 CTG60 AGC61 CAC62 AGC63 TTC64 ATC65 CTT66 TCT67 CTG68 AAG69 AAT70 AGT71 GAG72 CAG73\n"
     ]
    },
    {
     "ename": "KeyboardInterrupt",
     "evalue": "Interrupted by user",
     "output_type": "error",
     "traceback": [
      "\u001b[1;31m---------------------------------------------------------------------------\u001b[0m",
      "\u001b[1;31mKeyboardInterrupt\u001b[0m                         Traceback (most recent call last)",
      "\u001b[1;32m~\\AppData\\Local\\Temp\\ipykernel_16680\\1160446927.py\u001b[0m in \u001b[0;36m<module>\u001b[1;34m\u001b[0m\n\u001b[0;32m     10\u001b[0m     \u001b[0mb1\u001b[0m \u001b[1;33m=\u001b[0m \u001b[1;34m''\u001b[0m\u001b[1;33m.\u001b[0m\u001b[0mjoin\u001b[0m\u001b[1;33m(\u001b[0m\u001b[0mnullstr\u001b[0m\u001b[1;33m)\u001b[0m\u001b[1;33m\u001b[0m\u001b[1;33m\u001b[0m\u001b[0m\n\u001b[0;32m     11\u001b[0m     \u001b[1;32mwhile\u001b[0m \u001b[1;32mTrue\u001b[0m\u001b[1;33m:\u001b[0m\u001b[1;33m\u001b[0m\u001b[1;33m\u001b[0m\u001b[0m\n\u001b[1;32m---> 12\u001b[1;33m         \u001b[0mintent\u001b[0m \u001b[1;33m=\u001b[0m \u001b[0minput\u001b[0m\u001b[1;33m(\u001b[0m\u001b[1;34m'\\n Type \"triplet\" to find triplet sequence knowing its number,\\n or \"number\" to find triplet number using its sequence (all matches), \\n or type \"show\" to see your exon sequence with marked and counted triplets, \\n or \"back\" to return to sequence entering.\\n'\u001b[0m\u001b[1;33m)\u001b[0m\u001b[1;33m\u001b[0m\u001b[1;33m\u001b[0m\u001b[0m\n\u001b[0m\u001b[0;32m     13\u001b[0m         \u001b[1;32mif\u001b[0m \u001b[0mintent\u001b[0m \u001b[1;33m==\u001b[0m \u001b[1;34m'number'\u001b[0m\u001b[1;33m:\u001b[0m\u001b[1;33m\u001b[0m\u001b[1;33m\u001b[0m\u001b[0m\n\u001b[0;32m     14\u001b[0m             \u001b[0mexnum\u001b[0m \u001b[1;33m=\u001b[0m \u001b[0mint\u001b[0m\u001b[1;33m(\u001b[0m\u001b[0minput\u001b[0m\u001b[1;33m(\u001b[0m\u001b[1;34m'\\n Guess exon number:\\n'\u001b[0m\u001b[1;33m)\u001b[0m\u001b[1;33m)\u001b[0m\u001b[1;33m\u001b[0m\u001b[1;33m\u001b[0m\u001b[0m\n",
      "\u001b[1;32m~\\Anaconda3\\lib\\site-packages\\ipykernel\\kernelbase.py\u001b[0m in \u001b[0;36mraw_input\u001b[1;34m(self, prompt)\u001b[0m\n\u001b[0;32m   1077\u001b[0m             \u001b[0mself\u001b[0m\u001b[1;33m.\u001b[0m\u001b[0m_parent_ident\u001b[0m\u001b[1;33m[\u001b[0m\u001b[1;34m\"shell\"\u001b[0m\u001b[1;33m]\u001b[0m\u001b[1;33m,\u001b[0m\u001b[1;33m\u001b[0m\u001b[1;33m\u001b[0m\u001b[0m\n\u001b[0;32m   1078\u001b[0m             \u001b[0mself\u001b[0m\u001b[1;33m.\u001b[0m\u001b[0mget_parent\u001b[0m\u001b[1;33m(\u001b[0m\u001b[1;34m\"shell\"\u001b[0m\u001b[1;33m)\u001b[0m\u001b[1;33m,\u001b[0m\u001b[1;33m\u001b[0m\u001b[1;33m\u001b[0m\u001b[0m\n\u001b[1;32m-> 1079\u001b[1;33m             \u001b[0mpassword\u001b[0m\u001b[1;33m=\u001b[0m\u001b[1;32mFalse\u001b[0m\u001b[1;33m,\u001b[0m\u001b[1;33m\u001b[0m\u001b[1;33m\u001b[0m\u001b[0m\n\u001b[0m\u001b[0;32m   1080\u001b[0m         )\n\u001b[0;32m   1081\u001b[0m \u001b[1;33m\u001b[0m\u001b[0m\n",
      "\u001b[1;32m~\\Anaconda3\\lib\\site-packages\\ipykernel\\kernelbase.py\u001b[0m in \u001b[0;36m_input_request\u001b[1;34m(self, prompt, ident, parent, password)\u001b[0m\n\u001b[0;32m   1118\u001b[0m             \u001b[1;32mexcept\u001b[0m \u001b[0mKeyboardInterrupt\u001b[0m\u001b[1;33m:\u001b[0m\u001b[1;33m\u001b[0m\u001b[1;33m\u001b[0m\u001b[0m\n\u001b[0;32m   1119\u001b[0m                 \u001b[1;31m# re-raise KeyboardInterrupt, to truncate traceback\u001b[0m\u001b[1;33m\u001b[0m\u001b[1;33m\u001b[0m\u001b[1;33m\u001b[0m\u001b[0m\n\u001b[1;32m-> 1120\u001b[1;33m                 \u001b[1;32mraise\u001b[0m \u001b[0mKeyboardInterrupt\u001b[0m\u001b[1;33m(\u001b[0m\u001b[1;34m\"Interrupted by user\"\u001b[0m\u001b[1;33m)\u001b[0m \u001b[1;32mfrom\u001b[0m \u001b[1;32mNone\u001b[0m\u001b[1;33m\u001b[0m\u001b[1;33m\u001b[0m\u001b[0m\n\u001b[0m\u001b[0;32m   1121\u001b[0m             \u001b[1;32mexcept\u001b[0m \u001b[0mException\u001b[0m\u001b[1;33m:\u001b[0m\u001b[1;33m\u001b[0m\u001b[1;33m\u001b[0m\u001b[0m\n\u001b[0;32m   1122\u001b[0m                 \u001b[0mself\u001b[0m\u001b[1;33m.\u001b[0m\u001b[0mlog\u001b[0m\u001b[1;33m.\u001b[0m\u001b[0mwarning\u001b[0m\u001b[1;33m(\u001b[0m\u001b[1;34m\"Invalid Message:\"\u001b[0m\u001b[1;33m,\u001b[0m \u001b[0mexc_info\u001b[0m\u001b[1;33m=\u001b[0m\u001b[1;32mTrue\u001b[0m\u001b[1;33m)\u001b[0m\u001b[1;33m\u001b[0m\u001b[1;33m\u001b[0m\u001b[0m\n",
      "\u001b[1;31mKeyboardInterrupt\u001b[0m: Interrupted by user"
     ]
    }
   ],
   "source": [
    "while True:\n",
    "    a1 = input('\\n Insert your raw copy of exon: \\n (or type \"exit\" to finish the script)\\n')\n",
    "    if a1 == 'exit':\n",
    "        break\n",
    "    nullstr = []\n",
    "    for i in a1:\n",
    "        if i.isalpha():\n",
    "            nullstr.append(i)\n",
    "\n",
    "    b1 = ''.join(nullstr)\n",
    "    while True:\n",
    "        intent = input('\\n Type \"triplet\" to find triplet sequence knowing its number,\\n or \"number\" to find triplet number using its sequence (all matches), \\n or type \"show\" to see your exon sequence with marked and counted triplets, \\n or \"back\" to return to sequence entering.\\n')\n",
    "        if intent == 'number':\n",
    "            exnum = int(input('\\n Guess exon number:\\n'))\n",
    "            print(b1[3*exnum-3:3*exnum])\n",
    "\n",
    "        elif intent == 'triplet':\n",
    "            def grouper(iterable, n):\n",
    "                args = [iter(iterable)] * n\n",
    "                return zip(*args)\n",
    "\n",
    "            l = [''.join(i) for i in grouper(b1, 3)]\n",
    "            code = input('\\n Enter triplet:\\n')\n",
    "            posi = [i for i in range(len(l)) if l[i] == code]\n",
    "            for i in posi:\n",
    "                print(int(i)+1)\n",
    "\n",
    "        elif intent == 'show':\n",
    "            def grouper(iterable, n):\n",
    "                args = [iter(iterable)] * n\n",
    "                return zip(*args)\n",
    "\n",
    "            l = [''.join(i) for i in grouper(b1, 3)]\n",
    "            l1 = []\n",
    "            for i in range(len(l)):\n",
    "                j = l[i] + str(i+1)\n",
    "                l1.append(j)\n",
    "            print(*l1)\n",
    "\n",
    "        elif intent == 'back':\n",
    "            break\n",
    "\n",
    "        else:\n",
    "            print('try again')\n"
   ]
  },
  {
   "cell_type": "code",
   "execution_count": null,
   "id": "a9bb0e18",
   "metadata": {},
   "outputs": [],
   "source": []
  }
 ],
 "metadata": {
  "kernelspec": {
   "display_name": "Python 3 (ipykernel)",
   "language": "python",
   "name": "python3"
  },
  "language_info": {
   "codemirror_mode": {
    "name": "ipython",
    "version": 3
   },
   "file_extension": ".py",
   "mimetype": "text/x-python",
   "name": "python",
   "nbconvert_exporter": "python",
   "pygments_lexer": "ipython3",
   "version": "3.7.13"
  }
 },
 "nbformat": 4,
 "nbformat_minor": 5
}
