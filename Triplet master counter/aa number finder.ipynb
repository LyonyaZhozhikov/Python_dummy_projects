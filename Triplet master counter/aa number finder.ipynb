{
 "cells": [
  {
   "cell_type": "markdown",
   "id": "32581549",
   "metadata": {},
   "source": [
    "# Script to:\n",
    "## 1 find triplet number using triplet sequence \n",
    "## 2 or triplet sequence using number "
   ]
  },
  {
   "cell_type": "markdown",
   "id": "1ba57c71",
   "metadata": {},
   "source": [
    "### find your exon sequence first (using UCSC genome browser for example)"
   ]
  },
  {
   "cell_type": "markdown",
   "id": "3f72fa85",
   "metadata": {},
   "source": [
    "#### copy this to try how it works (no worries about integers and spaces):\n",
    "#### TGTTC TGAGGATAAA TATGTGACAA GTGCCTACCA  15555809 GTGGATGGTT CCCTTTCTTC ATCGTTGTGA GAAACAGTCG CCTGGTGTGG  15555759 CTAATGAGCT ATTAAAAGAA TATTTAGTAA CTTTAGCTAA AGGGGACTTA  15555709 AAATTTCCCC TGAAGATATT TCAGCATTCC AAACCAGAT\n",
    "### (exapmle here is NBAS gene 26 exon)\n"
   ]
  },
  {
   "cell_type": "code",
   "execution_count": null,
   "id": "a6ffa78f",
   "metadata": {},
   "outputs": [],
   "source": []
  },
  {
   "cell_type": "code",
   "execution_count": null,
   "id": "85c4491f",
   "metadata": {},
   "outputs": [
    {
     "name": "stdout",
     "output_type": "stream",
     "text": [
      "Insert your raw copy of exon: \n",
      " (or type \"exit\" to finish the script)\n",
      "TGTTC TGAGGATAAA TATGTGACAA GTGCCTACCA 15555809 GTGGATGGTT CCCTTTCTTC ATCGTTGTGA GAAACAGTCG CCTGGTGTGG 15555759 CTAATGAGCT ATTAAAAGAA TATTTAGTAA CTTTAGCTAA AGGGGACTTA 15555709 AAATTTCCCC TGAAGATATT TCAGCATTCC AAACCAGAT\n"
     ]
    }
   ],
   "source": [
    "while True:\n",
    "    a1 = input('Insert your raw copy of exon: \\n (or type \"exit\" to finish the script)\\n')\n",
    "    if a1 == 'exit':\n",
    "        break\n",
    "    if \n",
    "    nullstr = []\n",
    "    for i in a1:\n",
    "        if i.isalpha():\n",
    "            nullstr.append(i)\n",
    "\n",
    "    b1 = ''.join(nullstr)\n",
    "    while True:\n",
    "        intent = input('\\n Type \"triplet\" to find triplet sequence knowing its number,\\n or \"number\" to find triplet number using its sequence (all matches), \\n or type \"show\" to see your exon sequence with marked and counted triplets, \\n or \"back\" to return to sequence entering.\\n')\n",
    "        if intent == 'number':\n",
    "            exnum = int(input('\\n Guess exon number:\\n'))\n",
    "            print(b1[3*exnum-3:3*exnum])\n",
    "\n",
    "        elif intent == 'triplet':\n",
    "            def grouper(iterable, n):\n",
    "                args = [iter(iterable)] * n\n",
    "                return zip(*args)\n",
    "\n",
    "            l = [''.join(i) for i in grouper(b1, 3)]\n",
    "            code = input('\\n Enter triplet:\\n')\n",
    "            posi = [i for i in range(len(l)) if l[i] == code]\n",
    "            for i in posi:\n",
    "                print(int(i)+1)\n",
    "\n",
    "        elif intent == 'show':\n",
    "            def grouper(iterable, n):\n",
    "                args = [iter(iterable)] * n\n",
    "                return zip(*args)\n",
    "\n",
    "            l = [''.join(i) for i in grouper(b1, 3)]\n",
    "            l1 = []\n",
    "            for i in range(len(l)):\n",
    "                j = l[i] + str(i+1)\n",
    "                l1.append(j)\n",
    "            print(*l1)\n",
    "\n",
    "        elif intent == 'back':\n",
    "            break\n",
    "\n",
    "        else:\n",
    "            print('try again')"
   ]
  },
  {
   "cell_type": "code",
   "execution_count": null,
   "id": "a9bb0e18",
   "metadata": {},
   "outputs": [],
   "source": []
  }
 ],
 "metadata": {
  "kernelspec": {
   "display_name": "Python 3 (ipykernel)",
   "language": "python",
   "name": "python3"
  },
  "language_info": {
   "codemirror_mode": {
    "name": "ipython",
    "version": 3
   },
   "file_extension": ".py",
   "mimetype": "text/x-python",
   "name": "python",
   "nbconvert_exporter": "python",
   "pygments_lexer": "ipython3",
   "version": "3.7.13"
  }
 },
 "nbformat": 4,
 "nbformat_minor": 5
}
